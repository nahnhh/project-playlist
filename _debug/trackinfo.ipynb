{
 "cells": [
  {
   "cell_type": "code",
   "execution_count": 1,
   "metadata": {},
   "outputs": [
    {
     "name": "stdout",
     "output_type": "stream",
     "text": [
      "c:\\Users\\hithn\\OneDrive\\Desktop\\project-playlist\n"
     ]
    }
   ],
   "source": [
    "import sys\n",
    "import os\n",
    "from pathlib import Path\n",
    "\n",
    "root_dir = str(Path.cwd().parent)\n",
    "print(root_dir)\n",
    "\n",
    "sys.path.append(root_dir)\n",
    "\n",
    "from _debug.trackinfo import get_features"
   ]
  },
  {
   "cell_type": "code",
   "execution_count": 4,
   "metadata": {},
   "outputs": [
    {
     "name": "stdout",
     "output_type": "stream",
     "text": [
      "Getting metadata of D:\\#ALLMYMUSIC - Copy\\00. Vaporwave Albums\\Aexion & 夢のＳＴＡＲＤＩＡ - Nights of Azure - Copy...\n",
      "Processing D:\\#ALLMYMUSIC - Copy\\00. Vaporwave Albums\\Aexion & 夢のＳＴＡＲＤＩＡ - Nights of Azure - Copy --> #AEX-1-96C9-03-ST_[1,2,3].csv\n"
     ]
    },
    {
     "name": "stderr",
     "output_type": "stream",
     "text": [
      "Extracting features:   0%|          | 0/3 [00:00<?, ?it/s]"
     ]
    },
    {
     "name": "stdout",
     "output_type": "stream",
     "text": [
      "\n",
      "========================================\n",
      "Computing features for AEX-1-96C9-03-STA-1 (D:\\#ALLMYMUSIC - Copy\\00. Vaporwave Albums\\Aexion & 夢のＳＴＡＲＤＩＡ - Nights of Azure - Copy\\Aexion & 夢のＳＴＡＲＤＩＡ - Nights of Azure - 03 Floral Rainfall.mp3)\n",
      "[[[PROCESSING MIDDLE PART: 151.20s]]]\n",
      "(1303, 12)\n",
      "(13024, 13)\n",
      "(13024, 1)\n",
      "(13024, 1)\n",
      "(13024, 1)\n",
      "(13024, 1)\n",
      "(13024, 7)\n",
      "(13024, 1)\n",
      "[[[PROCESSING START PART: 22.00s]]]\n",
      "(190, 12)\n",
      "(1895, 13)\n",
      "(1895, 1)\n",
      "(1895, 1)\n",
      "(1895, 1)\n"
     ]
    },
    {
     "name": "stderr",
     "output_type": "stream",
     "text": [
      "Extracting features:  33%|███▎      | 1/3 [00:09<00:18,  9.19s/it]"
     ]
    },
    {
     "name": "stdout",
     "output_type": "stream",
     "text": [
      "(1895, 1)\n",
      "(1895, 7)\n",
      "(1895, 1)\n",
      "[[[PROCESSING END PART: 22.00s]]]\n",
      "Can't process features for D:\\#ALLMYMUSIC - Copy\\00. Vaporwave Albums\\Aexion & 夢のＳＴＡＲＤＩＡ - Nights of Azure - Copy\\Aexion & 夢のＳＴＡＲＤＩＡ - Nights of Azure - 03 Floral Rainfall.mp3 (TypeError(\"'float' object is not subscriptable\"))\n",
      "\n",
      "========================================\n",
      "Computing features for AEX-1-96C9-04-STA-1 (D:\\#ALLMYMUSIC - Copy\\00. Vaporwave Albums\\Aexion & 夢のＳＴＡＲＤＩＡ - Nights of Azure - Copy\\Aexion & 夢のＳＴＡＲＤＩＡ - Nights of Azure - 04 World Map.mp3)\n",
      "[[[PROCESSING MIDDLE PART: 193.95s]]]\n",
      "(1671, 12)\n",
      "(16706, 13)\n",
      "(16706, 1)\n",
      "(16706, 1)\n",
      "(16706, 1)\n",
      "(16706, 1)\n",
      "(16706, 7)\n",
      "(16706, 1)\n",
      "[[[PROCESSING START PART: 22.00s]]]\n",
      "(190, 12)\n",
      "(1895, 13)\n",
      "(1895, 1)\n",
      "(1895, 1)\n",
      "(1895, 1)\n",
      "(1895, 1)\n"
     ]
    },
    {
     "name": "stderr",
     "output_type": "stream",
     "text": [
      "Extracting features:  67%|██████▋   | 2/3 [00:14<00:07,  7.14s/it]"
     ]
    },
    {
     "name": "stdout",
     "output_type": "stream",
     "text": [
      "(1895, 7)\n",
      "(1895, 1)\n",
      "[[[PROCESSING END PART: 22.00s]]]\n",
      "Can't process features for D:\\#ALLMYMUSIC - Copy\\00. Vaporwave Albums\\Aexion & 夢のＳＴＡＲＤＩＡ - Nights of Azure - Copy\\Aexion & 夢のＳＴＡＲＤＩＡ - Nights of Azure - 04 World Map.mp3 (TypeError(\"'float' object is not subscriptable\"))\n",
      "\n",
      "========================================\n",
      "Computing features for AEX-1-96C9-05-STA-1 (D:\\#ALLMYMUSIC - Copy\\00. Vaporwave Albums\\Aexion & 夢のＳＴＡＲＤＩＡ - Nights of Azure - Copy\\Aexion & 夢のＳＴＡＲＤＩＡ - Nights of Azure - 05 Nocturne.mp3)\n",
      "[[[PROCESSING MIDDLE PART: 155.52s]]]\n",
      "(1340, 12)\n",
      "(13396, 13)\n",
      "(13396, 1)\n",
      "(13396, 1)\n",
      "(13396, 1)\n",
      "(13396, 1)\n",
      "(13396, 7)\n",
      "(13396, 1)\n",
      "[[[PROCESSING START PART: 22.00s]]]\n",
      "(190, 12)\n",
      "(1895, 13)\n",
      "(1895, 1)\n",
      "(1895, 1)\n",
      "(1895, 1)\n",
      "(1895, 1)\n"
     ]
    },
    {
     "name": "stderr",
     "output_type": "stream",
     "text": [
      "Extracting features: 100%|██████████| 3/3 [00:19<00:00,  6.48s/it]"
     ]
    },
    {
     "name": "stdout",
     "output_type": "stream",
     "text": [
      "(1895, 7)\n",
      "(1895, 1)\n",
      "[[[PROCESSING END PART: 22.00s]]]\n",
      "Can't process features for D:\\#ALLMYMUSIC - Copy\\00. Vaporwave Albums\\Aexion & 夢のＳＴＡＲＤＩＡ - Nights of Azure - Copy\\Aexion & 夢のＳＴＡＲＤＩＡ - Nights of Azure - 05 Nocturne.mp3 (TypeError(\"'float' object is not subscriptable\"))\n",
      "No features were extracted???\n",
      "Processed D:\\#ALLMYMUSIC - Copy\\00. Vaporwave Albums\\Aexion & 夢のＳＴＡＲＤＩＡ - Nights of Azure - Copy --> #AEX-1-96C9-03-ST_[1,2,3].csv\n"
     ]
    },
    {
     "name": "stderr",
     "output_type": "stream",
     "text": [
      "\n"
     ]
    }
   ],
   "source": [
    "base_path = r'D:\\#ALLMYMUSIC - Copy'\n",
    "get_features(base_path)"
   ]
  }
 ],
 "metadata": {
  "kernelspec": {
   "display_name": "project-playlist-venv",
   "language": "python",
   "name": "python3"
  },
  "language_info": {
   "codemirror_mode": {
    "name": "ipython",
    "version": 3
   },
   "file_extension": ".py",
   "mimetype": "text/x-python",
   "name": "python",
   "nbconvert_exporter": "python",
   "pygments_lexer": "ipython3",
   "version": "3.12.3"
  }
 },
 "nbformat": 4,
 "nbformat_minor": 2
}
