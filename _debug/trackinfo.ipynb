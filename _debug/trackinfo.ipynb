{
  "cells": [
    {
      "cell_type": "markdown",
      "metadata": {
        "colab_type": "text",
        "id": "view-in-github"
      },
      "source": [
        "<a href=\"https://colab.research.google.com/github/nahnhh/project-playlist/blob/main/_debug/trackinfo.ipynb\" target=\"_parent\"><img src=\"https://colab.research.google.com/assets/colab-badge.svg\" alt=\"Open In Colab\"/></a>"
      ]
    },
    {
      "cell_type": "code",
      "execution_count": 1,
      "metadata": {
        "colab": {
          "base_uri": "https://localhost:8080/"
        },
        "id": "tAAzbV9slFnl",
        "outputId": "1780b148-8df6-419b-98ff-497338dcd4c9"
      },
      "outputs": [
        {
          "name": "stdout",
          "output_type": "stream",
          "text": [
            "c:\\Users\\hithn\\OneDrive\\Desktop\\project-playlist\n"
          ]
        }
      ],
      "source": [
        "import sys\n",
        "from pathlib import Path\n",
        "\n",
        "root_dir = str(Path.cwd().parent)\n",
        "print(root_dir)\n",
        "\n",
        "sys.path.append(root_dir)\n",
        "\n",
        "from audio_extract.folder_features import get_features_from_folder, del_csv_files"
      ]
    },
    {
      "cell_type": "code",
      "execution_count": 2,
      "metadata": {
        "id": "WDJejDiglFnm",
        "outputId": "6230aeb4-1629-4f18-c174-5ecadb4c58e8"
      },
      "outputs": [
        {
          "name": "stdout",
          "output_type": "stream",
          "text": [
            "Getting metadata of D:\\#ALLMYMUSIC - Copy\\00. Future Funk\\Abstract Idea - Dokutā Slump...\n",
            "Processing D:\\#ALLMYMUSIC - Copy\\00. Future Funk\\Abstract Idea - Dokutā Slump --> #DOK-1-9B32_[1,2,..].csv\n"
          ]
        },
        {
          "name": "stderr",
          "output_type": "stream",
          "text": [
            "Extracting features:   0%|          | 0/14 [00:00<?, ?it/s]"
          ]
        },
        {
          "name": "stdout",
          "output_type": "stream",
          "text": [
            "\n",
            "========================================\n",
            "Computing features for DOK-1-9B32-01 (D:\\#ALLMYMUSIC - Copy\\00. Future Funk\\Abstract Idea - Dokutā Slump\\01. Let_s Go Mobile.mp3)\n",
            "[[[PROCESSING PART 1 (14%): 15.94s]]]\n",
            "[[[PROCESSING PART 2 (14%): 15.94s]]]\n",
            "[[[PROCESSING PART 3 (14%): 15.94s]]]\n",
            "[[[PROCESSING MIDDLE (14%): 15.94s]]]\n",
            "[[[PROCESSING PART 5 (14%): 15.94s]]]\n",
            "[[[PROCESSING PART 6 (14%): 15.94s]]]\n",
            "[[[PROCESSING PART 7 (14%): 15.94s]]]\n"
          ]
        },
        {
          "name": "stderr",
          "output_type": "stream",
          "text": [
            "Extracting features:   7%|▋         | 1/14 [00:15<03:18, 15.27s/it]"
          ]
        },
        {
          "name": "stdout",
          "output_type": "stream",
          "text": [
            "Computed features for DOK-1-9B32-01 in 15.27s\n",
            "========================================\n",
            "\n",
            "========================================\n",
            "Computing features for DOK-1-9B32-02 (D:\\#ALLMYMUSIC - Copy\\00. Future Funk\\Abstract Idea - Dokutā Slump\\02. Kiss.mp3)\n",
            "[[[PROCESSING PART 1 (14%): 30.00s]]]\n"
          ]
        },
        {
          "name": "stderr",
          "output_type": "stream",
          "text": [
            "Extracting features:   7%|▋         | 1/14 [00:16<03:31, 16.26s/it]\n"
          ]
        },
        {
          "ename": "KeyboardInterrupt",
          "evalue": "",
          "output_type": "error",
          "traceback": [
            "\u001b[1;31m---------------------------------------------------------------------------\u001b[0m",
            "\u001b[1;31mKeyboardInterrupt\u001b[0m                         Traceback (most recent call last)",
            "Cell \u001b[1;32mIn[2], line 2\u001b[0m\n\u001b[0;32m      1\u001b[0m base_path \u001b[38;5;241m=\u001b[39m \u001b[38;5;124mr\u001b[39m\u001b[38;5;124m'\u001b[39m\u001b[38;5;124mD:\u001b[39m\u001b[38;5;124m\\\u001b[39m\u001b[38;5;124m#ALLMYMUSIC - Copy\u001b[39m\u001b[38;5;124m\\\u001b[39m\u001b[38;5;124m00. Future Funk\u001b[39m\u001b[38;5;124m\\\u001b[39m\u001b[38;5;124mAbstract Idea - Dokutā Slump\u001b[39m\u001b[38;5;124m'\u001b[39m\n\u001b[1;32m----> 2\u001b[0m \u001b[43mget_features_from_folder\u001b[49m\u001b[43m(\u001b[49m\u001b[43mbase_path\u001b[49m\u001b[43m,\u001b[49m\u001b[43m \u001b[49m\u001b[43msplit\u001b[49m\u001b[38;5;241;43m=\u001b[39;49m\u001b[38;5;241;43m7\u001b[39;49m\u001b[43m)\u001b[49m\n",
            "File \u001b[1;32mc:\\Users\\hithn\\OneDrive\\Desktop\\project-playlist\\audio_extract\\folder_features.py:35\u001b[0m, in \u001b[0;36mget_features_from_folder\u001b[1;34m(base_path, split, in_out_sec)\u001b[0m\n\u001b[0;32m     33\u001b[0m base_uid \u001b[38;5;241m=\u001b[39m \u001b[38;5;124m'\u001b[39m\u001b[38;5;124m#\u001b[39m\u001b[38;5;124m'\u001b[39m \u001b[38;5;241m+\u001b[39m database\u001b[38;5;241m.\u001b[39mdf\u001b[38;5;241m.\u001b[39miloc[\u001b[38;5;241m0\u001b[39m]\u001b[38;5;241m.\u001b[39mname[:\u001b[38;5;241m-\u001b[39m\u001b[38;5;241m3\u001b[39m]\n\u001b[0;32m     34\u001b[0m \u001b[38;5;28mprint\u001b[39m(\u001b[38;5;124mf\u001b[39m\u001b[38;5;124m\"\u001b[39m\u001b[38;5;124mProcessing \u001b[39m\u001b[38;5;132;01m{\u001b[39;00mfolder\u001b[38;5;132;01m}\u001b[39;00m\u001b[38;5;124m --> \u001b[39m\u001b[38;5;132;01m{\u001b[39;00mbase_uid\u001b[38;5;132;01m}\u001b[39;00m\u001b[38;5;124m_[1,2,..].csv\u001b[39m\u001b[38;5;124m\"\u001b[39m)\n\u001b[1;32m---> 35\u001b[0m \u001b[43mdatabase\u001b[49m\u001b[38;5;241;43m.\u001b[39;49m\u001b[43m_scan_library\u001b[49m\u001b[43m(\u001b[49m\u001b[43mdepth\u001b[49m\u001b[38;5;241;43m=\u001b[39;49m\u001b[38;5;28;43;01mFalse\u001b[39;49;00m\u001b[43m,\u001b[49m\u001b[43m \u001b[49m\u001b[43mextract_features\u001b[49m\u001b[38;5;241;43m=\u001b[39;49m\u001b[38;5;28;43;01mTrue\u001b[39;49;00m\u001b[43m,\u001b[49m\u001b[43m \u001b[49m\u001b[43moutput_file\u001b[49m\u001b[38;5;241;43m=\u001b[39;49m\u001b[38;5;124;43mf\u001b[39;49m\u001b[38;5;124;43m'\u001b[39;49m\u001b[38;5;132;43;01m{\u001b[39;49;00m\u001b[43mbase_uid\u001b[49m\u001b[38;5;132;43;01m}\u001b[39;49;00m\u001b[38;5;124;43m.csv\u001b[39;49m\u001b[38;5;124;43m'\u001b[39;49m\u001b[43m,\u001b[49m\u001b[43m \u001b[49m\u001b[43msplit\u001b[49m\u001b[38;5;241;43m=\u001b[39;49m\u001b[43msplit\u001b[49m\u001b[43m,\u001b[49m\u001b[43m \u001b[49m\u001b[43min_out_sec\u001b[49m\u001b[38;5;241;43m=\u001b[39;49m\u001b[43min_out_sec\u001b[49m\u001b[43m)\u001b[49m\n\u001b[0;32m     36\u001b[0m \u001b[38;5;28mprint\u001b[39m(\u001b[38;5;124mf\u001b[39m\u001b[38;5;124m\"\u001b[39m\u001b[38;5;124mProcessed \u001b[39m\u001b[38;5;132;01m{\u001b[39;00mfolder\u001b[38;5;132;01m}\u001b[39;00m\u001b[38;5;124m --> \u001b[39m\u001b[38;5;132;01m{\u001b[39;00mbase_uid\u001b[38;5;132;01m}\u001b[39;00m\u001b[38;5;124m_[1,2,..].csv\u001b[39m\u001b[38;5;124m\"\u001b[39m)\n",
            "File \u001b[1;32mc:\\Users\\hithn\\OneDrive\\Desktop\\project-playlist\\audio_extract\\build_db.py:79\u001b[0m, in \u001b[0;36mMusicDatabase._scan_library\u001b[1;34m(self, depth, extract_features, output_file, split, in_out_sec)\u001b[0m\n\u001b[0;32m     77\u001b[0m output_file \u001b[38;5;241m=\u001b[39m output_dir \u001b[38;5;241m/\u001b[39m \u001b[38;5;28mself\u001b[39m\u001b[38;5;241m.\u001b[39moutput_file\n\u001b[0;32m     78\u001b[0m extractor \u001b[38;5;241m=\u001b[39m FeatureExtractor(split\u001b[38;5;241m=\u001b[39msplit, in_out_sec\u001b[38;5;241m=\u001b[39min_out_sec)\n\u001b[1;32m---> 79\u001b[0m \u001b[43mextractor\u001b[49m\u001b[38;5;241;43m.\u001b[39;49m\u001b[43mextract_features\u001b[49m\u001b[43m(\u001b[49m\u001b[43muids\u001b[49m\u001b[38;5;241;43m=\u001b[39;49m\u001b[38;5;28;43mself\u001b[39;49m\u001b[38;5;241;43m.\u001b[39;49m\u001b[43mdf\u001b[49m\u001b[38;5;241;43m.\u001b[39;49m\u001b[43mindex\u001b[49m\u001b[43m,\u001b[49m\u001b[43m \u001b[49m\u001b[43mpath_list\u001b[49m\u001b[38;5;241;43m=\u001b[39;49m\u001b[43mpath_list\u001b[49m\u001b[43m,\u001b[49m\u001b[43m \u001b[49m\u001b[43moutput_file\u001b[49m\u001b[38;5;241;43m=\u001b[39;49m\u001b[43moutput_file\u001b[49m\u001b[43m)\u001b[49m\n",
            "File \u001b[1;32mc:\\Users\\hithn\\OneDrive\\Desktop\\project-playlist\\audio_extract\\features_extract.py:30\u001b[0m, in \u001b[0;36mFeatureExtractor.extract_features\u001b[1;34m(self, uids, path_list, output_file)\u001b[0m\n\u001b[0;32m     27\u001b[0m \u001b[38;5;28;01mfor\u001b[39;00m uid, file_path \u001b[38;5;129;01min\u001b[39;00m tqdm(uids_paths_zip, desc\u001b[38;5;241m=\u001b[39m\u001b[38;5;124m\"\u001b[39m\u001b[38;5;124mExtracting features\u001b[39m\u001b[38;5;124m\"\u001b[39m):\n\u001b[0;32m     28\u001b[0m     \u001b[38;5;28;01mtry\u001b[39;00m:\n\u001b[0;32m     29\u001b[0m         \u001b[38;5;66;03m# Compute features\u001b[39;00m\n\u001b[1;32m---> 30\u001b[0m         features_parts \u001b[38;5;241m=\u001b[39m \u001b[38;5;28;43mself\u001b[39;49m\u001b[38;5;241;43m.\u001b[39;49m\u001b[43mextract_features_single\u001b[49m\u001b[43m(\u001b[49m\u001b[43muid\u001b[49m\u001b[43m,\u001b[49m\u001b[43m \u001b[49m\u001b[43mfile_path\u001b[49m\u001b[43m)\u001b[49m\n\u001b[0;32m     32\u001b[0m         \u001b[38;5;66;03m# Initialize lists in dictionary for each part if not exists\u001b[39;00m\n\u001b[0;32m     33\u001b[0m         \u001b[38;5;28;01mfor\u001b[39;00m i \u001b[38;5;129;01min\u001b[39;00m \u001b[38;5;28mrange\u001b[39m(\u001b[38;5;28mlen\u001b[39m(features_parts)):\n",
            "File \u001b[1;32mc:\\Users\\hithn\\OneDrive\\Desktop\\project-playlist\\audio_extract\\features_extract.py:14\u001b[0m, in \u001b[0;36mFeatureExtractor.extract_features_single\u001b[1;34m(self, uid, audio_path)\u001b[0m\n\u001b[0;32m     12\u001b[0m \u001b[38;5;28mprint\u001b[39m(\u001b[38;5;124mf\u001b[39m\u001b[38;5;124m\"\u001b[39m\u001b[38;5;130;01m\\n\u001b[39;00m\u001b[38;5;124m========================================\u001b[39m\u001b[38;5;130;01m\\n\u001b[39;00m\u001b[38;5;124mComputing features for \u001b[39m\u001b[38;5;132;01m{\u001b[39;00muid\u001b[38;5;132;01m}\u001b[39;00m\u001b[38;5;124m (\u001b[39m\u001b[38;5;132;01m{\u001b[39;00maudio_path\u001b[38;5;132;01m}\u001b[39;00m\u001b[38;5;124m)\u001b[39m\u001b[38;5;124m\"\u001b[39m)\n\u001b[0;32m     13\u001b[0m t1 \u001b[38;5;241m=\u001b[39m time\u001b[38;5;241m.\u001b[39mtime()\n\u001b[1;32m---> 14\u001b[0m features_part \u001b[38;5;241m=\u001b[39m \u001b[38;5;28;43mself\u001b[39;49m\u001b[38;5;241;43m.\u001b[39;49m\u001b[43mfeatures\u001b[49m\u001b[38;5;241;43m.\u001b[39;49m\u001b[43mcompute_features\u001b[49m\u001b[43m(\u001b[49m\u001b[43muid\u001b[49m\u001b[38;5;241;43m=\u001b[39;49m\u001b[43muid\u001b[49m\u001b[43m,\u001b[49m\u001b[43m \u001b[49m\u001b[43maudio_path\u001b[49m\u001b[38;5;241;43m=\u001b[39;49m\u001b[43maudio_path\u001b[49m\u001b[43m)\u001b[49m\n\u001b[0;32m     15\u001b[0m t2 \u001b[38;5;241m=\u001b[39m time\u001b[38;5;241m.\u001b[39mtime()\n\u001b[0;32m     16\u001b[0m \u001b[38;5;28mprint\u001b[39m(\u001b[38;5;124mf\u001b[39m\u001b[38;5;124m\"\u001b[39m\u001b[38;5;124mComputed features for \u001b[39m\u001b[38;5;132;01m{\u001b[39;00muid\u001b[38;5;132;01m}\u001b[39;00m\u001b[38;5;124m in \u001b[39m\u001b[38;5;132;01m{\u001b[39;00mt2\u001b[38;5;241m-\u001b[39mt1\u001b[38;5;132;01m:\u001b[39;00m\u001b[38;5;124m.2f\u001b[39m\u001b[38;5;132;01m}\u001b[39;00m\u001b[38;5;124ms\u001b[39m\u001b[38;5;130;01m\\n\u001b[39;00m\u001b[38;5;124m========================================\u001b[39m\u001b[38;5;124m\"\u001b[39m)\n",
            "File \u001b[1;32mc:\\Users\\hithn\\OneDrive\\Desktop\\project-playlist\\audio_extract\\features_compute.py:170\u001b[0m, in \u001b[0;36mFeaturesCompute.compute_features\u001b[1;34m(self, audio_path, uid)\u001b[0m\n\u001b[0;32m    168\u001b[0m \u001b[38;5;66;03m# Compute tempo\u001b[39;00m\n\u001b[0;32m    169\u001b[0m \u001b[38;5;28;01mtry\u001b[39;00m:\n\u001b[1;32m--> 170\u001b[0m   tempo, _ \u001b[38;5;241m=\u001b[39m \u001b[43mlibrosa\u001b[49m\u001b[38;5;241;43m.\u001b[39;49m\u001b[43mbeat\u001b[49m\u001b[38;5;241;43m.\u001b[39;49m\u001b[43mbeat_track\u001b[49m\u001b[43m(\u001b[49m\u001b[43my\u001b[49m\u001b[38;5;241;43m=\u001b[39;49m\u001b[43my\u001b[49m\u001b[43m,\u001b[49m\u001b[43m \u001b[49m\u001b[43msr\u001b[49m\u001b[38;5;241;43m=\u001b[39;49m\u001b[43msr\u001b[49m\u001b[43m,\u001b[49m\u001b[43m \u001b[49m\u001b[43mstart_bpm\u001b[49m\u001b[38;5;241;43m=\u001b[39;49m\u001b[38;5;241;43m50\u001b[39;49m\u001b[43m)\u001b[49m\n\u001b[0;32m    171\u001b[0m   features[(\u001b[38;5;124m'\u001b[39m\u001b[38;5;124mtempo\u001b[39m\u001b[38;5;124m'\u001b[39m, \u001b[38;5;124m'\u001b[39m\u001b[38;5;124mmean\u001b[39m\u001b[38;5;124m'\u001b[39m, \u001b[38;5;124m'\u001b[39m\u001b[38;5;124m01\u001b[39m\u001b[38;5;124m'\u001b[39m)] \u001b[38;5;241m=\u001b[39m np\u001b[38;5;241m.\u001b[39maround(tempo[\u001b[38;5;241m0\u001b[39m], decimals\u001b[38;5;241m=\u001b[39m\u001b[38;5;241m3\u001b[39m)\n\u001b[0;32m    172\u001b[0m \u001b[38;5;28;01mexcept\u001b[39;00m \u001b[38;5;167;01mException\u001b[39;00m \u001b[38;5;28;01mas\u001b[39;00m e:\n",
            "File \u001b[1;32mc:\\Users\\hithn\\OneDrive\\Desktop\\project-playlist\\project-playlist-venv\\Lib\\site-packages\\librosa\\beat.py:245\u001b[0m, in \u001b[0;36mbeat_track\u001b[1;34m(y, sr, onset_envelope, hop_length, start_bpm, tightness, trim, bpm, prior, units, sparse)\u001b[0m\n\u001b[0;32m    240\u001b[0m bpm_expanded \u001b[38;5;241m=\u001b[39m util\u001b[38;5;241m.\u001b[39mexpand_to(_bpm,\n\u001b[0;32m    241\u001b[0m                               ndim\u001b[38;5;241m=\u001b[39monset_envelope\u001b[38;5;241m.\u001b[39mndim,\n\u001b[0;32m    242\u001b[0m                               axes\u001b[38;5;241m=\u001b[39m\u001b[38;5;28mrange\u001b[39m(_bpm\u001b[38;5;241m.\u001b[39mndim))\n\u001b[0;32m    244\u001b[0m \u001b[38;5;66;03m# Then, run the tracker\u001b[39;00m\n\u001b[1;32m--> 245\u001b[0m beats \u001b[38;5;241m=\u001b[39m \u001b[43m__beat_tracker\u001b[49m\u001b[43m(\u001b[49m\u001b[43monset_envelope\u001b[49m\u001b[43m,\u001b[49m\u001b[43m \u001b[49m\u001b[43mbpm_expanded\u001b[49m\u001b[43m,\u001b[49m\u001b[43m \u001b[49m\u001b[38;5;28;43mfloat\u001b[39;49m\u001b[43m(\u001b[49m\u001b[43msr\u001b[49m\u001b[43m)\u001b[49m\u001b[43m \u001b[49m\u001b[38;5;241;43m/\u001b[39;49m\u001b[43m \u001b[49m\u001b[43mhop_length\u001b[49m\u001b[43m,\u001b[49m\u001b[43m \u001b[49m\u001b[43mtightness\u001b[49m\u001b[43m,\u001b[49m\u001b[43m \u001b[49m\u001b[43mtrim\u001b[49m\u001b[43m)\u001b[49m\n\u001b[0;32m    247\u001b[0m \u001b[38;5;28;01mif\u001b[39;00m sparse:\n\u001b[0;32m    248\u001b[0m     beats \u001b[38;5;241m=\u001b[39m np\u001b[38;5;241m.\u001b[39mflatnonzero(beats)\n",
            "File \u001b[1;32mc:\\Users\\hithn\\OneDrive\\Desktop\\project-playlist\\project-playlist-venv\\Lib\\site-packages\\librosa\\beat.py:491\u001b[0m, in \u001b[0;36m__beat_tracker\u001b[1;34m(onset_envelope, bpm, frame_rate, tightness, trim)\u001b[0m\n\u001b[0;32m    488\u001b[0m localscore \u001b[38;5;241m=\u001b[39m __beat_local_score(__normalize_onsets(onset_envelope), frames_per_beat)\n\u001b[0;32m    490\u001b[0m \u001b[38;5;66;03m# run the DP\u001b[39;00m\n\u001b[1;32m--> 491\u001b[0m backlink, cumscore \u001b[38;5;241m=\u001b[39m \u001b[43m__beat_track_dp\u001b[49m\u001b[43m(\u001b[49m\u001b[43mlocalscore\u001b[49m\u001b[43m,\u001b[49m\u001b[43m \u001b[49m\u001b[43mframes_per_beat\u001b[49m\u001b[43m,\u001b[49m\u001b[43m \u001b[49m\u001b[43mtightness\u001b[49m\u001b[43m)\u001b[49m\n\u001b[0;32m    493\u001b[0m \u001b[38;5;66;03m# Reconstruct the beat path from backlinks\u001b[39;00m\n\u001b[0;32m    494\u001b[0m tail \u001b[38;5;241m=\u001b[39m __last_beat(cumscore)\n",
            "File \u001b[1;32mc:\\Users\\hithn\\OneDrive\\Desktop\\project-playlist\\project-playlist-venv\\Lib\\site-packages\\numba\\np\\ufunc\\gufunc.py:252\u001b[0m, in \u001b[0;36mGUFunc.__call__\u001b[1;34m(self, *args, **kwargs)\u001b[0m\n\u001b[0;32m    248\u001b[0m \u001b[38;5;28;01mdef\u001b[39;00m\u001b[38;5;250m \u001b[39m\u001b[38;5;21m__call__\u001b[39m(\u001b[38;5;28mself\u001b[39m, \u001b[38;5;241m*\u001b[39margs, \u001b[38;5;241m*\u001b[39m\u001b[38;5;241m*\u001b[39mkwargs):\n\u001b[0;32m    249\u001b[0m     \u001b[38;5;66;03m# If compilation is disabled OR it is NOT a dynamic gufunc\u001b[39;00m\n\u001b[0;32m    250\u001b[0m     \u001b[38;5;66;03m# call the underlying gufunc\u001b[39;00m\n\u001b[0;32m    251\u001b[0m     \u001b[38;5;28;01mif\u001b[39;00m \u001b[38;5;28mself\u001b[39m\u001b[38;5;241m.\u001b[39m_frozen \u001b[38;5;129;01mor\u001b[39;00m \u001b[38;5;129;01mnot\u001b[39;00m \u001b[38;5;28mself\u001b[39m\u001b[38;5;241m.\u001b[39mis_dynamic:\n\u001b[1;32m--> 252\u001b[0m         \u001b[38;5;28;01mreturn\u001b[39;00m \u001b[38;5;28;43mself\u001b[39;49m\u001b[38;5;241;43m.\u001b[39;49m\u001b[43mufunc\u001b[49m\u001b[43m(\u001b[49m\u001b[38;5;241;43m*\u001b[39;49m\u001b[43margs\u001b[49m\u001b[43m,\u001b[49m\u001b[43m \u001b[49m\u001b[38;5;241;43m*\u001b[39;49m\u001b[38;5;241;43m*\u001b[39;49m\u001b[43mkwargs\u001b[49m\u001b[43m)\u001b[49m\n\u001b[0;32m    253\u001b[0m     \u001b[38;5;28;01melif\u001b[39;00m \u001b[38;5;124m\"\u001b[39m\u001b[38;5;124mout\u001b[39m\u001b[38;5;124m\"\u001b[39m \u001b[38;5;129;01min\u001b[39;00m kwargs:\n\u001b[0;32m    254\u001b[0m         \u001b[38;5;66;03m# If \"out\" argument is supplied\u001b[39;00m\n\u001b[0;32m    255\u001b[0m         args \u001b[38;5;241m+\u001b[39m\u001b[38;5;241m=\u001b[39m (kwargs\u001b[38;5;241m.\u001b[39mpop(\u001b[38;5;124m\"\u001b[39m\u001b[38;5;124mout\u001b[39m\u001b[38;5;124m\"\u001b[39m),)\n",
            "\u001b[1;31mKeyboardInterrupt\u001b[0m: "
          ]
        }
      ],
      "source": [
        "base_path = r'D:\\#ALLMYMUSIC - Copy\\00. Future Funk\\Abstract Idea - Dokutā Slump'\n",
        "get_features_from_folder(base_path, split=7)"
      ]
    }
  ],
  "metadata": {
    "accelerator": "GPU",
    "colab": {
      "gpuType": "T4",
      "include_colab_link": true,
      "provenance": []
    },
    "kernelspec": {
      "display_name": "project-playlist-venv",
      "language": "python",
      "name": "python3"
    },
    "language_info": {
      "codemirror_mode": {
        "name": "ipython",
        "version": 3
      },
      "file_extension": ".py",
      "mimetype": "text/x-python",
      "name": "python",
      "nbconvert_exporter": "python",
      "pygments_lexer": "ipython3",
      "version": "3.12.3"
    }
  },
  "nbformat": 4,
  "nbformat_minor": 0
}
