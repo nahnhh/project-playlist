{
  "cells": [
    {
      "cell_type": "markdown",
      "metadata": {
        "colab_type": "text",
        "id": "view-in-github"
      },
      "source": [
        "<a href=\"https://colab.research.google.com/github/nahnhh/project-playlist/blob/main/_debug/trackinfo.ipynb\" target=\"_parent\"><img src=\"https://colab.research.google.com/assets/colab-badge.svg\" alt=\"Open In Colab\"/></a>"
      ]
    },
    {
      "cell_type": "code",
      "execution_count": 1,
      "metadata": {
        "colab": {
          "base_uri": "https://localhost:8080/"
        },
        "id": "tAAzbV9slFnl",
        "outputId": "1780b148-8df6-419b-98ff-497338dcd4c9"
      },
      "outputs": [
        {
          "name": "stdout",
          "output_type": "stream",
          "text": [
            "c:\\Users\\hithn\\OneDrive\\Desktop\\project-playlist\n"
          ]
        }
      ],
      "source": [
        "import sys\n",
        "from pathlib import Path\n",
        "\n",
        "root_dir = str(Path.cwd().parent)\n",
        "print(root_dir)\n",
        "\n",
        "sys.path.append(root_dir)\n",
        "\n",
        "from audio_extract.folder_features import get_features_from_folder"
      ]
    },
    {
      "cell_type": "code",
      "execution_count": 2,
      "metadata": {
        "id": "WDJejDiglFnm",
        "outputId": "6230aeb4-1629-4f18-c174-5ecadb4c58e8"
      },
      "outputs": [
        {
          "name": "stdout",
          "output_type": "stream",
          "text": [
            "Getting metadata of D:\\#ALLMYMUSIC - Copy\\05. Illusionary ドリーミング\\Illusionary ドリーミング - ちょうどその時...\n",
            "Processing D:\\#ALLMYMUSIC - Copy\\05. Illusionary ドリーミング\\Illusionary ドリーミング - ちょうどその時 --> #ILL-1-8EFE_[1,2,..].csv\n"
          ]
        },
        {
          "name": "stderr",
          "output_type": "stream",
          "text": [
            "Extracting features:   0%|          | 0/5 [00:00<?, ?it/s]"
          ]
        },
        {
          "name": "stdout",
          "output_type": "stream",
          "text": [
            "\n",
            "========================================\n",
            "Computing features for ILL-1-8EFE-01 (D:\\#ALLMYMUSIC - Copy\\05. Illusionary ドリーミング\\Illusionary ドリーミング - ちょうどその時\\Illusionary ドリーミング - ちょうどその時 - 01 再び私たち.mp3)\n",
            "LEFT SPLIT: 0\n",
            "LEFT SPLIT: 1\n",
            "[[[PROCESSING PART 1 (25%): 30.00s]]]\n",
            "[[[PROCESSING PART 2 (25%): 34.20s]]]\n",
            "[[[PROCESSING PART 3 (25%): 34.20s]]]\n",
            "[[[PROCESSING PART 4 (25%): 30.00s]]]\n"
          ]
        },
        {
          "name": "stderr",
          "output_type": "stream",
          "text": [
            "Extracting features:  20%|██        | 1/5 [00:06<00:26,  6.51s/it]"
          ]
        },
        {
          "name": "stdout",
          "output_type": "stream",
          "text": [
            "Computed features for ILL-1-8EFE-01 in 6.50s\n",
            "========================================\n",
            "\n",
            "========================================\n",
            "Computing features for ILL-1-8EFE-02 (D:\\#ALLMYMUSIC - Copy\\05. Illusionary ドリーミング\\Illusionary ドリーミング - ちょうどその時\\Illusionary ドリーミング - ちょうどその時 - 02 ちょうどその時 I.mp3)\n",
            "LEFT SPLIT: 0\n",
            "LEFT SPLIT: 1\n",
            "[[[PROCESSING PART 1 (25%): 30.00s]]]\n",
            "[[[PROCESSING PART 2 (25%): 38.93s]]]\n",
            "[[[PROCESSING PART 3 (25%): 38.93s]]]\n",
            "[[[PROCESSING PART 4 (25%): 30.00s]]]\n"
          ]
        },
        {
          "name": "stderr",
          "output_type": "stream",
          "text": [
            "Extracting features:  40%|████      | 2/5 [00:10<00:14,  4.78s/it]"
          ]
        },
        {
          "name": "stdout",
          "output_type": "stream",
          "text": [
            "Computed features for ILL-1-8EFE-02 in 3.56s\n",
            "========================================\n",
            "\n",
            "========================================\n",
            "Computing features for ILL-1-8EFE-04 (D:\\#ALLMYMUSIC - Copy\\05. Illusionary ドリーミング\\Illusionary ドリーミング - ちょうどその時\\Illusionary ドリーミング - ちょうどその時 - 04 横切って飛ぶ.mp3)\n",
            "LEFT SPLIT: 0\n",
            "LEFT SPLIT: 1\n",
            "[[[PROCESSING PART 1 (25%): 30.00s]]]\n",
            "[[[PROCESSING PART 2 (25%): 149.42s]]]\n",
            "[[[PROCESSING PART 3 (25%): 149.42s]]]\n",
            "[[[PROCESSING PART 4 (25%): 30.00s]]]\n"
          ]
        },
        {
          "name": "stderr",
          "output_type": "stream",
          "text": [
            "Extracting features:  60%|██████    | 3/5 [00:19<00:13,  6.85s/it]"
          ]
        },
        {
          "name": "stdout",
          "output_type": "stream",
          "text": [
            "Computed features for ILL-1-8EFE-04 in 9.32s\n",
            "========================================\n",
            "\n",
            "========================================\n",
            "Computing features for ILL-1-8EFE-06 (D:\\#ALLMYMUSIC - Copy\\05. Illusionary ドリーミング\\Illusionary ドリーミング - ちょうどその時\\Illusionary ドリーミング - ちょうどその時 - 06 ちょうどその時 II.mp3)\n",
            "LEFT SPLIT: 0\n",
            "LEFT SPLIT: 1\n",
            "[[[PROCESSING PART 1 (25%): 30.00s]]]\n",
            "[[[PROCESSING PART 2 (25%): 68.33s]]]\n",
            "[[[PROCESSING PART 3 (25%): 68.33s]]]\n",
            "[[[PROCESSING PART 4 (25%): 30.00s]]]\n"
          ]
        },
        {
          "name": "stderr",
          "output_type": "stream",
          "text": [
            "Extracting features:  80%|████████  | 4/5 [00:24<00:06,  6.03s/it]"
          ]
        },
        {
          "name": "stdout",
          "output_type": "stream",
          "text": [
            "Computed features for ILL-1-8EFE-06 in 4.76s\n",
            "========================================\n",
            "\n",
            "========================================\n",
            "Computing features for ILL-1-8EFE-07 (D:\\#ALLMYMUSIC - Copy\\05. Illusionary ドリーミング\\Illusionary ドリーミング - ちょうどその時\\Illusionary ドリーミング - ちょうどその時 - 07 汝は空虚なり.mp3)\n",
            "LEFT SPLIT: 0\n",
            "LEFT SPLIT: 1\n",
            "[[[PROCESSING PART 1 (25%): 30.00s]]]\n",
            "[[[PROCESSING PART 2 (25%): 57.63s]]]\n",
            "[[[PROCESSING PART 3 (25%): 57.63s]]]\n",
            "[[[PROCESSING PART 4 (25%): 30.00s]]]\n"
          ]
        },
        {
          "name": "stderr",
          "output_type": "stream",
          "text": [
            "Extracting features: 100%|██████████| 5/5 [00:28<00:00,  5.67s/it]"
          ]
        },
        {
          "name": "stdout",
          "output_type": "stream",
          "text": [
            "Computed features for ILL-1-8EFE-07 in 4.18s\n",
            "========================================\n",
            "Saved part 1 (25%) features of 5 files\n",
            "Saved part 2 (25%) features of 5 files\n",
            "Saved part 3 (25%) features of 5 files\n",
            "Saved part 4 (25%) features of 5 files\n",
            "Total processing time: 28.38s\n",
            "Processed D:\\#ALLMYMUSIC - Copy\\05. Illusionary ドリーミング\\Illusionary ドリーミング - ちょうどその時 --> #ILL-1-8EFE_[1,2,..].csv\n"
          ]
        },
        {
          "name": "stderr",
          "output_type": "stream",
          "text": [
            "\n"
          ]
        }
      ],
      "source": [
        "base_path = r'D:\\#ALLMYMUSIC - Copy\\05. Illusionary ドリーミング\\Illusionary ドリーミング - ちょうどその時'\n",
        "get_features_from_folder(base_path, split=[25, 25, 25, 25], in_out_sec=30)"
      ]
    }
  ],
  "metadata": {
    "accelerator": "GPU",
    "colab": {
      "gpuType": "T4",
      "include_colab_link": true,
      "provenance": []
    },
    "kernelspec": {
      "display_name": "project-playlist-venv",
      "language": "python",
      "name": "python3"
    },
    "language_info": {
      "codemirror_mode": {
        "name": "ipython",
        "version": 3
      },
      "file_extension": ".py",
      "mimetype": "text/x-python",
      "name": "python",
      "nbconvert_exporter": "python",
      "pygments_lexer": "ipython3",
      "version": "3.12.3"
    }
  },
  "nbformat": 4,
  "nbformat_minor": 0
}
