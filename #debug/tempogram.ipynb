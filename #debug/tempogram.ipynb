{
 "cells": [
  {
   "cell_type": "code",
   "execution_count": 2,
   "metadata": {},
   "outputs": [],
   "source": [
    "import librosa\n",
    "import scipy.stats"
   ]
  },
  {
   "cell_type": "code",
   "execution_count": 17,
   "metadata": {},
   "outputs": [
    {
     "data": {
      "text/plain": [
       "array([32.70866297])"
      ]
     },
     "execution_count": 17,
     "metadata": {},
     "output_type": "execute_result"
    }
   ],
   "source": [
    "y, sr = librosa.load(r'D:/#ALLMYMUSIC - Copy/01. t e l e p a t h テレパシー能力者/#2. t e l e p a t h テレパシー能力者/310. 向かい合って/02. あなたの愛、永遠に.mp3', duration=30, offset=240)\n",
    "\n",
    "onset_env = librosa.onset.onset_strength(y=y, sr=sr)\n",
    "\n",
    "tempo, beats = librosa.beat.beat_track(y=y, sr=sr,\n",
    "                                       start_bpm=50)\n",
    "\n",
    "tempo"
   ]
  },
  {
   "cell_type": "code",
   "execution_count": 4,
   "metadata": {},
   "outputs": [
    {
     "data": {
      "text/plain": [
       "array([   3,   23,   42,   61,   79,   97,  117,  138,  158,  178,  198,\n",
       "        218,  237,  256,  275,  294,  315,  336,  359,  382,  405,  427,\n",
       "        450,  471,  491,  510,  530,  549,  569,  590,  608,  626,  648,\n",
       "        668,  688,  707,  726,  746,  767,  786,  805,  824,  844,  863,\n",
       "        882,  901,  921,  941,  963,  983, 1002, 1021, 1040, 1059, 1079,\n",
       "       1099, 1118, 1137, 1156, 1176, 1196, 1215, 1234, 1253])"
      ]
     },
     "execution_count": 4,
     "metadata": {},
     "output_type": "execute_result"
    }
   ],
   "source": [
    "beats"
   ]
  }
 ],
 "metadata": {
  "kernelspec": {
   "display_name": "uninstall",
   "language": "python",
   "name": "python3"
  },
  "language_info": {
   "codemirror_mode": {
    "name": "ipython",
    "version": 3
   },
   "file_extension": ".py",
   "mimetype": "text/x-python",
   "name": "python",
   "nbconvert_exporter": "python",
   "pygments_lexer": "ipython3",
   "version": "3.12.3"
  }
 },
 "nbformat": 4,
 "nbformat_minor": 2
}
